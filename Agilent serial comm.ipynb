{
 "cells": [
  {
   "cell_type": "code",
   "execution_count": 173,
   "metadata": {},
   "outputs": [
    {
     "name": "stdout",
     "output_type": "stream",
     "text": [
      "0x2 0x80 0x32 0x30 0x35 0x30 0x3 0x38 0x36 \n"
     ]
    }
   ],
   "source": [
    "import codecs\n",
    "\n",
    "# For status inquiry : WIN 205\n",
    "STX=0x02\n",
    "ADDR=0x80\n",
    "WIN1=0x32\n",
    "WIN2=0x30\n",
    "WIN3=0x35\n",
    "COM=0x30\n",
    "ETX=0x03\n",
    "\n",
    "# Pressure reading : WIN 812\n",
    "STX=0x02\n",
    "ADDR=0x80\n",
    "WIN1=0x32\n",
    "WIN2=0x30\n",
    "WIN3=0x35\n",
    "COM=0x30\n",
    "ETX=0x03\n",
    "\n",
    "CRCraw=hex(STX ^ ADDR ^ WIN1 ^ WIN2 ^ WIN3 ^ COM ^ ETX)\n",
    "CRC1=codecs.encode(bytes(CRCraw[2].upper(),'utf-8'),\"hex\")\n",
    "CRC2=codecs.encode(bytes(CRCraw[3].upper(),'utf-8'),\"hex\")\n",
    "\n",
    "command=[STX, ADDR, WIN1, WIN2, WIN3, COM, ETX, int(CRC1,16), int(CRC2,16)]\n",
    "\n",
    "a=''\n",
    "for c in command:\n",
    "#     print(str(hex(c)))\n",
    "    a=a+str(hex(c))+' '\n",
    "print(a)"
   ]
  },
  {
   "cell_type": "code",
   "execution_count": null,
   "metadata": {},
   "outputs": [],
   "source": [
    "0x2 0x80 0x38 0x39 0x30 0x30 0x3 0x38 0x30"
   ]
  }
 ],
 "metadata": {
  "kernelspec": {
   "display_name": "Python 3",
   "language": "python",
   "name": "python3"
  },
  "language_info": {
   "codemirror_mode": {
    "name": "ipython",
    "version": 3
   },
   "file_extension": ".py",
   "mimetype": "text/x-python",
   "name": "python",
   "nbconvert_exporter": "python",
   "pygments_lexer": "ipython3",
   "version": "3.8.3"
  }
 },
 "nbformat": 4,
 "nbformat_minor": 4
}
