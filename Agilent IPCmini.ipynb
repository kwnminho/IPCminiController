{
 "cells": [
  {
   "cell_type": "code",
   "execution_count": 133,
   "metadata": {},
   "outputs": [],
   "source": [
    "# For status inquiry\n",
    "STX=0x02\n",
    "ADDR=0x80\n",
    "WIN1=0x32\n",
    "WIN2=0x30\n",
    "WIN3=0x35\n",
    "COM=0x30\n",
    "ETX=0x03"
   ]
  },
  {
   "cell_type": "code",
   "execution_count": 134,
   "metadata": {},
   "outputs": [],
   "source": [
    "CRCraw=hex(STX ^ ADDR ^ WIN1 ^ WIN2 ^ WIN3 ^ COM ^ ETX)\n",
    "CRC1=crcletter=codecs.encode(bytes(CRCraw[2].upper(),'utf-8'),\"hex\")\n",
    "CRC2=crcletter=codecs.encode(bytes(CRCraw[3].upper(),'utf-8'),\"hex\")"
   ]
  },
  {
   "cell_type": "code",
   "execution_count": 138,
   "metadata": {},
   "outputs": [
    {
     "name": "stdout",
     "output_type": "stream",
     "text": [
      "[2, 128, 50, 48, 53, 48, 3, 38, 36]\n",
      "\u00022050\u0003&$\n"
     ]
    }
   ],
   "source": [
    "command=[STX, ADDR, WIN1, WIN2, WIN3, COM, ETX, int(CRC1), int(CRC2)]\n",
    "print(command)\n",
    "a=''\n",
    "for c in command:\n",
    "    a=a+chr(c)\n",
    "print(a)"
   ]
  },
  {
   "cell_type": "code",
   "execution_count": 139,
   "metadata": {},
   "outputs": [],
   "source": [
    "# For pressure reading\n",
    "STX=0x02\n",
    "ADDR=0x80\n",
    "WIN1=0x38\n",
    "WIN2=0x31\n",
    "WIN3=0x32\n",
    "COM=0x30\n",
    "ETX=0x0"
   ]
  },
  {
   "cell_type": "code",
   "execution_count": 140,
   "metadata": {},
   "outputs": [],
   "source": [
    "CRCraw=hex(STX ^ ADDR ^ WIN1 ^ WIN2 ^ WIN3 ^ COM ^ ETX)\n",
    "CRC1=crcletter=codecs.encode(bytes(CRCraw[2].upper(),'utf-8'),\"hex\")\n",
    "CRC2=crcletter=codecs.encode(bytes(CRCraw[3].upper(),'utf-8'),\"hex\")"
   ]
  },
  {
   "cell_type": "code",
   "execution_count": 141,
   "metadata": {},
   "outputs": [
    {
     "name": "stdout",
     "output_type": "stream",
     "text": [
      "[2, 128, 56, 49, 50, 48, 0, 38, 39]\n",
      "\u00028120\u0000&'\n"
     ]
    }
   ],
   "source": [
    "command=[STX, ADDR, WIN1, WIN2, WIN3, COM, ETX, int(CRC1), int(CRC2)]\n",
    "print(command)\n",
    "a=''\n",
    "for c in command:\n",
    "    a=a+chr(c)\n",
    "print(a)"
   ]
  },
  {
   "cell_type": "code",
   "execution_count": null,
   "metadata": {},
   "outputs": [],
   "source": []
  }
 ],
 "metadata": {
  "kernelspec": {
   "display_name": "Python 3",
   "language": "python",
   "name": "python3"
  },
  "language_info": {
   "codemirror_mode": {
    "name": "ipython",
    "version": 3
   },
   "file_extension": ".py",
   "mimetype": "text/x-python",
   "name": "python",
   "nbconvert_exporter": "python",
   "pygments_lexer": "ipython3",
   "version": "3.7.7"
  }
 },
 "nbformat": 4,
 "nbformat_minor": 4
}
